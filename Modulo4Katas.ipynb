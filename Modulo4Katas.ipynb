{
 "cells": [
  {
   "cell_type": "markdown",
   "metadata": {},
   "source": [
    "# Ejercicio 1: Transformar cadenas"
   ]
  },
  {
   "cell_type": "code",
   "execution_count": 5,
   "metadata": {},
   "outputs": [
    {
     "name": "stdout",
     "output_type": "stream",
     "text": [
      "['Interesting facts about the Moon', \"The Moon is Earth's only satellite\", 'There are several interesting facts about the Moon and how it affects life here on Earth', '\\nOn average, the Moon moves 4cm away from the Earth every year', 'This yearly drift is not significant enough to cause immediate effects on Earth', 'The highest daylight temperature of the Moon is 127 C.']\n"
     ]
    }
   ],
   "source": [
    "text = \"\"\"Interesting facts about the Moon. The Moon is Earth's only satellite. There are several interesting facts about the Moon and how it affects life here on Earth. \n",
    "On average, the Moon moves 4cm away from the Earth every year. This yearly drift is not significant enough to cause immediate effects on Earth. The highest daylight temperature of the Moon is 127 C.\"\"\"\n",
    "\n",
    "oraciones = text.split('. ')\n",
    "print(oraciones)\n"
   ]
  },
  {
   "cell_type": "code",
   "execution_count": 21,
   "metadata": {},
   "outputs": [
    {
     "name": "stdout",
     "output_type": "stream",
     "text": [
      "['Interesting facts about the Moon', \"The Moon is Earth's only satellite\", 'There are several interesting facts about the Moon and how it affects life here on Earth', '\\nOn average, the Moon moves 4cm away from the Earth every year', 'This yearly drift is not significant enough to cause immediate effects on Earth', 'The highest daylight temperature of the Moon is 127 C.']\n",
      "['average', 'temperature', 'distance']\n",
      "\n",
      "On average, the Moon moves 4cm away from the Earth every year\n",
      "The highest daylight temperature of the Moon is 127 C.\n",
      "\n",
      "On average, the Moon moves 4cm away from the Earth every year\n",
      "The highest daylight temperature of the Moon is 127 Celsius.\n"
     ]
    }
   ],
   "source": [
    "text = \"\"\"Interesting facts about the Moon. The Moon is Earth's only satellite. There are several interesting facts about the Moon and how it affects life here on Earth. \n",
    "On average, the Moon moves 4cm away from the Earth every year. This yearly drift is not significant enough to cause immediate effects on Earth. The highest daylight temperature of the Moon is 127 C.\"\"\"\n",
    "\n",
    "oraciones = text.split('. ')\n",
    "print(oraciones)\n",
    "\n",
    "palabras_pista=[\"average\", \"temperature\", \"distance\"]\n",
    "print(palabras_pista)\n",
    "\n",
    "for item in oraciones:\n",
    "    for palabra in palabras_pista:\n",
    "        if palabra in item:\n",
    "            print(item)\n",
    "            break\n",
    "\n",
    "for item in oraciones:\n",
    "    for palabra in palabras_pista:\n",
    "        if palabra in item:\n",
    "            print(item.replace(' C',' Celsius'))\n",
    "            break\n",
    "\n"
   ]
  },
  {
   "cell_type": "markdown",
   "metadata": {},
   "source": [
    "\n",
    "# Ejercicio 2: Formateando Cadenas"
   ]
  },
  {
   "cell_type": "code",
   "execution_count": 28,
   "metadata": {},
   "outputs": [
    {
     "name": "stdout",
     "output_type": "stream",
     "text": [
      "Datos de gravedad sobre Moon\n",
      "-------------------------------------------------------------------------------\n",
      "Planet Name: Earth\n",
      "Gravity on Ganymede: 1.6199999999999999 m/s2\n",
      "Datos De Gravedad Sobre Moon\n",
      "-------------------------------------------------------------------------------\n",
      "Planet Name: Earth\n",
      "Gravity on Ganymede: 1.6199999999999999 m/s2\n"
     ]
    }
   ],
   "source": [
    "name = \"Moon\"\n",
    "gravity = 0.00162 # in kms\n",
    "planet = \"Earth\"\n",
    "\n",
    "title = f\"Datos de gravedad sobre {name}\"\n",
    "print(title)\n",
    "\n",
    "multiline = f\"\"\"-------------------------------------------------------------------------------\\nPlanet Name: {planet}\\nGravity on Ganymede: {gravity * 1000} m/s2\"\"\"\n",
    "print(multiline)\n",
    "\n",
    "template = f\"\"\"{title.title()}\\n{multiline}\"\"\"\n",
    "print(template)\n"
   ]
  },
  {
   "cell_type": "code",
   "execution_count": 37,
   "metadata": {},
   "outputs": [
    {
     "name": "stdout",
     "output_type": "stream",
     "text": [
      "Datos de gravedad sobre Ganímedes\n",
      "-------------------------------------------------------------------------------\n",
      "Planet Name: Marte \n",
      "Gravity on Ganymede: 1.4300000000000002 m/s2\n"
     ]
    }
   ],
   "source": [
    "planeta = 'Marte '\n",
    "gravedad  = 0.00143\n",
    "nombre = 'Ganímedes'\n",
    "\n",
    "plantilla = \"\"\"Datos de gravedad sobre {nombre}\\n-------------------------------------------------------------------------------\\nPlanet Name: {planeta}\\nGravity on Ganymede: {gravedad} m/s2\"\"\"\n",
    "print(plantilla.format(nombre=nombre, planeta=planeta, gravedad=gravedad*1000))\n"
   ]
  }
 ],
 "metadata": {
  "interpreter": {
   "hash": "4f9cffe9c3dbf7fac6fe4e83b2f8e542d22728e6787c197b6ae67e1720c02a5d"
  },
  "kernelspec": {
   "display_name": "Python 3.10.2 64-bit (windows store)",
   "language": "python",
   "name": "python3"
  },
  "language_info": {
   "codemirror_mode": {
    "name": "ipython",
    "version": 3
   },
   "file_extension": ".py",
   "mimetype": "text/x-python",
   "name": "python",
   "nbconvert_exporter": "python",
   "pygments_lexer": "ipython3",
   "version": "3.10.2"
  },
  "orig_nbformat": 4
 },
 "nbformat": 4,
 "nbformat_minor": 2
}
