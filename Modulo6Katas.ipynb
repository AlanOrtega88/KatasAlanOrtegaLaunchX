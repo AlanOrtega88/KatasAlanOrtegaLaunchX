{
 "cells": [
  {
   "cell_type": "markdown",
   "metadata": {},
   "source": [
    "# Ejercicio 1 - Crear y usar listas de Python"
   ]
  },
  {
   "cell_type": "code",
   "execution_count": 5,
   "metadata": {},
   "outputs": [
    {
     "name": "stdout",
     "output_type": "stream",
     "text": [
      "Hay un total de 8 planetas\n",
      "El último planeta en el sistema solar es:  Plutón\n"
     ]
    }
   ],
   "source": [
    "planets = ['Mercury', 'Venus', 'Earth', 'Mars', 'Jupiter', 'Saturn', 'Uranus', 'Neptune']\n",
    "print('Hay un total de', len(planets), 'planetas.')\n",
    "\n",
    "planets.append('Plutón')\n",
    "print('El último planeta en el sistema solar es: ', planets[-1])"
   ]
  },
  {
   "cell_type": "markdown",
   "metadata": {},
   "source": [
    "# Ejercicio 2 - Trabajando con datos de una lista"
   ]
  },
  {
   "cell_type": "code",
   "execution_count": 10,
   "metadata": {},
   "outputs": [
    {
     "name": "stdout",
     "output_type": "stream",
     "text": [
      "4\n",
      "3\n",
      "Mars  is the 4 planet from the sun\n",
      "['Mercury', 'Venus', 'Earth']\n",
      "['Mars', 'Jupiter', 'Saturn', 'Uranus', 'Neptune']\n"
     ]
    }
   ],
   "source": [
    "planets = ['Mercury', 'Venus', 'Earth', 'Mars', 'Jupiter', 'Saturn', 'Uranus', 'Neptune']\n",
    "\n",
    "planeta = input(\"Ingresa el nombre de un planeta\")\n",
    "\n",
    "planeta_index = planets.index(planeta)\n",
    "\n",
    "print(planeta_index + 1)\n",
    "print(planeta_index)\n",
    "print(planeta, ' is the', planeta_index + 1, 'planet from the sun')\n",
    "\n",
    "planets_before_earth = planets[0:planeta_index]\n",
    "print(planets_before_earth)\n",
    "\n",
    "planets_after_earth = planets[planeta_index:]\n",
    "print(planets_after_earth)"
   ]
  }
 ],
 "metadata": {
  "interpreter": {
   "hash": "4f9cffe9c3dbf7fac6fe4e83b2f8e542d22728e6787c197b6ae67e1720c02a5d"
  },
  "kernelspec": {
   "display_name": "Python 3.10.2 64-bit (windows store)",
   "language": "python",
   "name": "python3"
  },
  "language_info": {
   "codemirror_mode": {
    "name": "ipython",
    "version": 3
   },
   "file_extension": ".py",
   "mimetype": "text/x-python",
   "name": "python",
   "nbconvert_exporter": "python",
   "pygments_lexer": "ipython3",
   "version": "3.10.2"
  },
  "orig_nbformat": 4
 },
 "nbformat": 4,
 "nbformat_minor": 2
}
