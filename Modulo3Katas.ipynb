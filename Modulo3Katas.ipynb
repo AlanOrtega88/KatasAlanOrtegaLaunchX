{
 "cells": [
  {
   "cell_type": "markdown",
   "metadata": {},
   "source": [
    "Ejercicio 1"
   ]
  },
  {
   "cell_type": "code",
   "execution_count": 4,
   "metadata": {},
   "outputs": [
    {
     "name": "stdout",
     "output_type": "stream",
     "text": [
      "Un asteroide se acerca, y viaja a una velocidad de 49 km/s.\n"
     ]
    }
   ],
   "source": [
    "velocidad = 49\n",
    "if velocidad > 25:\n",
    "    print('Un asteroide se acerca, y viaja a una velocidad de ' + str(velocidad) + ' km/s.')"
   ]
  },
  {
   "cell_type": "markdown",
   "metadata": {},
   "source": [
    "Ejercicio 2"
   ]
  },
  {
   "cell_type": "code",
   "execution_count": 6,
   "metadata": {},
   "outputs": [
    {
     "name": "stdout",
     "output_type": "stream",
     "text": [
      "Hay uno que se dirige hacia la tierra ahora a una velocidad de 19 km/s. Pero no es visible.\n"
     ]
    }
   ],
   "source": [
    "velocidad = 19\n",
    "if velocidad >= 20:\n",
    "    print('Hay uno que se dirige hacia la tierra ahora a una velocidad de ' + str(velocidad) + ' km/s. Debería ser visible en el cielo.')\n",
    "else:\n",
    "    print('Hay uno que se dirige hacia la tierra ahora a una velocidad de ' + str(velocidad) + ' km/s. Pero no es visible.')"
   ]
  },
  {
   "cell_type": "markdown",
   "metadata": {},
   "source": [
    "Ejercicio 3"
   ]
  },
  {
   "cell_type": "code",
   "execution_count": 9,
   "metadata": {},
   "outputs": [
    {
     "name": "stdout",
     "output_type": "stream",
     "text": [
      "Hay uno que se dirige hacia la tierra ahora a una velocidad de 25 km/s. Deber[ia ser visible en el cielo.\n"
     ]
    }
   ],
   "source": [
    "velocidad = 25\n",
    "tamanno = 20\n",
    "if tamanno >= 25 and tamanno < 1000:\n",
    "    print ('Se acerca un asteroide que causara daño ya que mide ' + str(tamanno) + ' metros.') \n",
    "elif velocidad >= 20:\n",
    "    print('Hay uno que se dirige hacia la tierra ahora a una velocidad de ' + str(velocidad) + ' km/s. Debería ser visible en el cielo.')\n",
    "else:\n",
    "    print('Hay uno que se dirige hacia la tierra ahora a una velocidad de ' + str(velocidad) + ' km/s. Pero no es visible.')"
   ]
  }
 ],
 "metadata": {
  "interpreter": {
   "hash": "4f9cffe9c3dbf7fac6fe4e83b2f8e542d22728e6787c197b6ae67e1720c02a5d"
  },
  "kernelspec": {
   "display_name": "Python 3.10.2 64-bit (windows store)",
   "language": "python",
   "name": "python3"
  },
  "language_info": {
   "codemirror_mode": {
    "name": "ipython",
    "version": 3
   },
   "file_extension": ".py",
   "mimetype": "text/x-python",
   "name": "python",
   "nbconvert_exporter": "python",
   "pygments_lexer": "ipython3",
   "version": "3.10.2"
  },
  "orig_nbformat": 4
 },
 "nbformat": 4,
 "nbformat_minor": 2
}
