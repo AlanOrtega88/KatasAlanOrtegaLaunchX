{
 "cells": [
  {
   "cell_type": "markdown",
   "metadata": {},
   "source": [
    "# Ejercicio 1 - Utilizar operadores aritméticos"
   ]
  },
  {
   "cell_type": "code",
   "execution_count": 9,
   "metadata": {},
   "outputs": [
    {
     "name": "stdout",
     "output_type": "stream",
     "text": [
      "628949330\n",
      "390577534\n"
     ]
    }
   ],
   "source": [
    "planeta_a=149597870\n",
    "planeta_b=778547200\n",
    "\n",
    "distancia=(abs(planeta_a-planeta_b))\n",
    "\n",
    "print(distancia)\n",
    "print(round(distancia*0.621))"
   ]
  },
  {
   "cell_type": "markdown",
   "metadata": {},
   "source": [
    "# Ejercicio 2 - Convierte cadenas en números y usa valores absolutos"
   ]
  },
  {
   "cell_type": "code",
   "execution_count": 11,
   "metadata": {},
   "outputs": [
    {
     "name": "stdout",
     "output_type": "stream",
     "text": [
      "30\n",
      "19\n"
     ]
    }
   ],
   "source": [
    "planeta_a = input(\"Distancia A\")\n",
    "planeta_b = input(\"Distancia B\")\n",
    "\n",
    "planeta_aa = int(planeta_a)\n",
    "planeta_bb = int(planeta_b)\n",
    "\n",
    "distancia=(abs(planeta_aa-planeta_bb))\n",
    "\n",
    "print(distancia)\n",
    "print(round(distancia*0.621))\n"
   ]
  }
 ],
 "metadata": {
  "interpreter": {
   "hash": "4f9cffe9c3dbf7fac6fe4e83b2f8e542d22728e6787c197b6ae67e1720c02a5d"
  },
  "kernelspec": {
   "display_name": "Python 3.10.2 64-bit (windows store)",
   "language": "python",
   "name": "python3"
  },
  "language_info": {
   "codemirror_mode": {
    "name": "ipython",
    "version": 3
   },
   "file_extension": ".py",
   "mimetype": "text/x-python",
   "name": "python",
   "nbconvert_exporter": "python",
   "pygments_lexer": "ipython3",
   "version": "3.10.2"
  },
  "orig_nbformat": 4
 },
 "nbformat": 4,
 "nbformat_minor": 2
}
